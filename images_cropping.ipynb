{
 "cells": [
  {
   "cell_type": "raw",
   "id": "555bad0a-bd36-472e-add2-965b8620cecb",
   "metadata": {},
   "source": [
    "from prepare_BAND7&8"
   ]
  },
  {
   "cell_type": "markdown",
   "id": "16683710-f3ef-4482-a506-b7b2dd146694",
   "metadata": {},
   "source": [
    "# Package"
   ]
  },
  {
   "cell_type": "code",
   "execution_count": null,
   "id": "f04bb5df-1b7c-480f-88be-ff5278f23262",
   "metadata": {},
   "outputs": [],
   "source": [
    "import matplotlib.pyplot as plt\n",
    "import matplotlib as mpl\n",
    "import numpy as np\n",
    "import netCDF4\n",
    "from skimage import io, transform, exposure, filters\n",
    "import numpy as np\n",
    "from scipy.fft import fft2, ifft2, fftshift\n",
    "import fnmatch, os, glob\n",
    "import json\n",
    "import gc\n",
    "import h5py\n",
    "from scipy.ndimage import zoom\n",
    "from scipy.stats import entropy\n",
    "from sklearn.decomposition import PCA\n",
    "\n",
    "import scipy.io\n",
    "from scipy.io import savemat\n",
    "\n",
    "from PIL import Image\n",
    "import imageio\n",
    "\n",
    "from matplotlib import cm\n",
    "from scipy.ndimage import convolve"
   ]
  },
  {
   "cell_type": "code",
   "execution_count": null,
   "id": "a250b2ed-b180-45f9-8d26-109511924dfe",
   "metadata": {},
   "outputs": [],
   "source": []
  },
  {
   "cell_type": "markdown",
   "id": "e1fef67c-2f1d-42ff-81a4-ebbd2b9a47e3",
   "metadata": {},
   "source": [
    "# Navigate through file"
   ]
  },
  {
   "cell_type": "code",
   "execution_count": null,
   "id": "dea98cb6-1167-4eb6-8f24-86a6f24627dd",
   "metadata": {},
   "outputs": [],
   "source": [
    "base_path = os.path.expanduser(\"/data/omar/data_sets/model_based_15Nov/\")\n",
    "data_names  = ['africa', 'Canda', 'east_US', 'Gulf', 'France', 'India', 'Ireland', 'Iceland', 'Madag', 'Malaz&Singa', 'Mex', 'Norway&Swedeen', 'Newzaland' ,  'UK','west_US']\n",
    "data_paths = {data_name: os.path.join(base_path, data_name) for data_name in data_names}\n",
    "band_names = ['BAND2_RADIANCE','BAND3_RADIANCE','BAND4_RADIANCE','BAND5_RADIANCE', 'BAND6_RADIANCE','BAND7_RADIANCE',  'BAND8_RADIANCE']\n",
    "\n"
   ]
  },
  {
   "cell_type": "code",
   "execution_count": null,
   "id": "bee33a97-7c8b-460b-af5c-dd7c70b79434",
   "metadata": {},
   "outputs": [],
   "source": []
  },
  {
   "cell_type": "markdown",
   "id": "2eb78c74-2010-48a0-a21b-2763d7ba15fe",
   "metadata": {},
   "source": [
    "# Plotting"
   ]
  },
  {
   "cell_type": "code",
   "execution_count": null,
   "id": "5b0fe4cd-76bb-442d-8ee4-d26840e9e32b",
   "metadata": {},
   "outputs": [],
   "source": [
    "def plot_hyperspectral_images_regions(lr_imgs, hr_imgs, band_name, bands=[30, 50, 70], cmap='terrain'):\n",
    "    num_regions = len(lr_imgs)\n",
    "    fig, axes = plt.subplots(1, num_regions, figsize=(15, 5))\n",
    "\n",
    "    for i in range(num_regions):\n",
    "        hr_color = hr_imgs[i][:, :, bands]\n",
    "        hr_color = (hr_color - hr_color.min()) / (hr_color.max() - hr_color.min())\n",
    "        axes[i].imshow(hr_color, cmap=cmap)\n",
    "        axes[i].set_title(f\"HR {i+1}\")\n",
    "        axes[i].axis(\"off\")\n",
    "\n",
    "\n",
    "    plt.tight_layout()\n",
    "    plt.show()\n",
    "    plt.close(fig)\n"
   ]
  },
  {
   "cell_type": "code",
   "execution_count": null,
   "id": "fd75d17c-b06a-4593-8a19-2b3d1a1bfeac",
   "metadata": {},
   "outputs": [],
   "source": []
  },
  {
   "cell_type": "code",
   "execution_count": null,
   "id": "a43c5444-6958-4b58-a7a9-cdf8edfd94e0",
   "metadata": {},
   "outputs": [],
   "source": [
    "def read_images(data_name, path):\n",
    "    for band_name in band_names:\n",
    "        print(band_name)\n",
    "        lr_imgs = []\n",
    "        hr_imgs = []\n",
    "        \n",
    "        region_index = 1  \n",
    "        while True:\n",
    "            hr_path = os.path.join(path, f\"{data_name}_{band_name}_region_{region_index}_cropped_hyper.mat\")\n",
    "            lr_path = os.path.join(path, f\"{data_name}_{band_name}_region_{region_index}_cropped_hyper_LR4.mat\")\n",
    "            \n",
    "            if not os.path.exists(hr_path) or not os.path.exists(lr_path):\n",
    "                break  \n",
    "            hr_img = scipy.io.loadmat(hr_path)['radiance']\n",
    "            hr_imgs.append(hr_img)\n",
    "\n",
    "            lr_img = scipy.io.loadmat(lr_path)['radiance']\n",
    "            lr_imgs.append(lr_img)\n",
    "\n",
    "            region_index += 1\n",
    "        \n",
    "        print(\"region_index\", region_index)\n",
    "        plot_hyperspectral_images_regions(lr_imgs, hr_imgs, band_name)\n",
    "\n",
    "    return hr_imgs\n"
   ]
  },
  {
   "cell_type": "code",
   "execution_count": null,
   "id": "43b2eb01-de73-407c-8cc1-1553bd3fc5cc",
   "metadata": {},
   "outputs": [],
   "source": []
  },
  {
   "cell_type": "markdown",
   "id": "e97bdb5a-68df-4c20-9a73-2c194c28e158",
   "metadata": {},
   "source": [
    "# Data"
   ]
  },
  {
   "cell_type": "code",
   "execution_count": null,
   "id": "be7c72f3-80aa-41d4-939d-ee882622c08a",
   "metadata": {},
   "outputs": [],
   "source": [
    "def find_radiance_variable(group): # recursively find radinace\n",
    "    for var_name in group.variables:\n",
    "        if var_name == 'radiance':\n",
    "            return group.variables[var_name][:]\n",
    "    for subgroup_name in group.groups:\n",
    "        result = find_radiance_variable(group.groups[subgroup_name])\n",
    "        if result is not None:\n",
    "            return result\n",
    "    print('Radiance variable not found')\n",
    "    return None"
   ]
  },
  {
   "cell_type": "code",
   "execution_count": null,
   "id": "fd996e2f-e2da-4389-a59d-6934c2c24943",
   "metadata": {},
   "outputs": [],
   "source": [
    "def save_to_hdf5(file_name, data, band_name):\n",
    "    with h5py.File(file_name, 'a') as f:\n",
    "        f.create_dataset(band_name, data=data)\n"
   ]
  },
  {
   "cell_type": "code",
   "execution_count": null,
   "id": "e2291456-ea37-464e-b7ae-2498e752a9a7",
   "metadata": {},
   "outputs": [],
   "source": [
    "def load_from_hdf5(file_name, band_name):\n",
    "    with h5py.File(file_name, 'r') as f:\n",
    "        data = f[band_name][:]\n",
    "    return data"
   ]
  },
  {
   "cell_type": "code",
   "execution_count": null,
   "id": "2798c200-7e0f-48c2-86f6-a5bd383f67f9",
   "metadata": {},
   "outputs": [],
   "source": []
  },
  {
   "cell_type": "code",
   "execution_count": null,
   "id": "ef16a7ff-b804-4fa3-b8e1-9fd5325e2a66",
   "metadata": {},
   "outputs": [],
   "source": [
    "def save_images_mat(img, file_name):\n",
    "    image_array = np.array(img)\n",
    "    scipy.io.savemat(file_name, {'radiance': image_array})"
   ]
  },
  {
   "cell_type": "code",
   "execution_count": null,
   "id": "c2a09bb8-4f2d-48db-a4a0-402702a0fb06",
   "metadata": {},
   "outputs": [],
   "source": [
    "def process_files_toHDF5(data_name, data_path):\n",
    "    files_path = data_path\n",
    "    output_dir = data_path\n",
    "    files_path = glob.glob(os.path.join(files_path, 'BAND*.nc'))\n",
    "    \n",
    "    if not os.path.exists(output_dir):\n",
    "        os.makedirs(output_dir)\n",
    "    \n",
    "    for file_path in files_path:\n",
    "        band_name_prefix = os.path.basename(file_path).split(\"_\")[0][-1]\n",
    "        band_name = f\"BAND{band_name_prefix}_RADIANCE\"\n",
    "        \n",
    "        if band_name in band_names:\n",
    "            try:\n",
    "                hdf5_file = os.path.join(output_dir, f\"{data_name}_{band_name}.h5\")\n",
    "                if os.path.exists(hdf5_file):\n",
    "                    print(f\"Skipping {band_name} as it already exists.\")\n",
    "                    continue\n",
    "                dataset = netCDF4.Dataset(file_path)\n",
    "                radiance_data = find_radiance_variable(dataset.groups[band_name])\n",
    "                print(f'Original shape for {band_name}:', radiance_data.shape)\n",
    "                \n",
    "                save_to_hdf5(hdf5_file, radiance_data, band_name)\n",
    "            except (KeyError, OSError) as e:\n",
    "                print(f\"WARNING: Error processing {band_name}: {e}\")\n",
    "        else:\n",
    "            print(f\"WARNING: No matching band name found for file {band_name}\")\n",
    "    \n",
    "    print(\"Data has been saved.\")\n"
   ]
  },
  {
   "cell_type": "code",
   "execution_count": null,
   "id": "71bd0cbe-2b8d-4ed4-9429-3ba96c8a739f",
   "metadata": {},
   "outputs": [],
   "source": [
    "def channel_crop_all_save(data_name, data_path):\n",
    "    crop_height = 512\n",
    "    crop_width = 256\n",
    "\n",
    "    region_index = 0  \n",
    "    \n",
    "    for band_name in band_names:\n",
    "        input_file_path = os.path.join(data_path, f\"{data_name}_{band_name}.h5\")\n",
    "        data = load_from_hdf5(input_file_path, band_name)\n",
    "        region_index = 0  \n",
    "        \n",
    "        print(band_name)\n",
    "        if band_name in ['BAND8_RADIANCE', 'BAND7_RADIANCE']:\n",
    "            crop_width = 215\n",
    "        else:\n",
    "            crop_width = 256\n",
    "\n",
    "        _, height, width, _ = data.shape\n",
    "        \n",
    "        for start_h in range(0, height, crop_height):\n",
    "            for start_w in range(0, width, crop_width):\n",
    "                if start_h + crop_height > height or start_w + crop_width > width:\n",
    "                    continue\n",
    "                cropped_radiance = data[0, start_h:start_h + crop_height, start_w:start_w + crop_width, :]\n",
    "                \n",
    "                region_index += 1\n",
    "\n",
    "                file_name = os.path.join(data_path, f\"{data_name}_{band_name}_region_{region_index}_cropped_hyper.mat\")\n",
    "                save_images_mat(cropped_radiance, file_name)\n",
    "\n",
    "                print(f\"Data has been saved for region {region_index} starting at ({start_h}, {start_w}).\")\n"
   ]
  },
  {
   "cell_type": "code",
   "execution_count": null,
   "id": "b04551d7-e360-423e-a2f4-39d574624051",
   "metadata": {},
   "outputs": [],
   "source": []
  },
  {
   "cell_type": "code",
   "execution_count": null,
   "id": "7744a1be-eb0a-4374-9572-f3ab77673aea",
   "metadata": {},
   "outputs": [],
   "source": []
  },
  {
   "cell_type": "code",
   "execution_count": null,
   "id": "cb9cc9f7-c4a5-42ad-bfb6-f2e7885ce74b",
   "metadata": {},
   "outputs": [],
   "source": []
  },
  {
   "cell_type": "code",
   "execution_count": null,
   "id": "30fa545d-9e11-4703-aaa2-f28eeae92fb4",
   "metadata": {},
   "outputs": [],
   "source": []
  }
 ],
 "metadata": {
  "kernelspec": {
   "display_name": "Python 3 (ipykernel)",
   "language": "python",
   "name": "python3"
  },
  "language_info": {
   "codemirror_mode": {
    "name": "ipython",
    "version": 3
   },
   "file_extension": ".py",
   "mimetype": "text/x-python",
   "name": "python",
   "nbconvert_exporter": "python",
   "pygments_lexer": "ipython3",
   "version": "3.10.14"
  }
 },
 "nbformat": 4,
 "nbformat_minor": 5
}
